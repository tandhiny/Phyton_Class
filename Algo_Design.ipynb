{
  "nbformat": 4,
  "nbformat_minor": 0,
  "metadata": {
    "colab": {
      "provenance": [],
      "authorship_tag": "ABX9TyOKnyS5+h7Mf05Nhu5bDlQX",
      "include_colab_link": true
    },
    "kernelspec": {
      "name": "python3",
      "display_name": "Python 3"
    },
    "language_info": {
      "name": "python"
    }
  },
  "cells": [
    {
      "cell_type": "markdown",
      "metadata": {
        "id": "view-in-github",
        "colab_type": "text"
      },
      "source": [
        "<a href=\"https://colab.research.google.com/github/tandhiny/Phyton_Class/blob/main/Algo_Design.ipynb\" target=\"_parent\"><img src=\"https://colab.research.google.com/assets/colab-badge.svg\" alt=\"Open In Colab\"/></a>"
      ]
    },
    {
      "cell_type": "code",
      "source": [
        "#Exercise 1 symbols\n",
        "k=(5**2)//6; g=(4**2)%7; r=5; g,k,r =r//6,g*3,k//1\n",
        "print(f\"g: {g}\")\n",
        "print(f\"k: {k}\")\n",
        "print(f\"r: {r}\")"
      ],
      "metadata": {
        "id": "m8CXEUTVUi1a",
        "outputId": "2dd30850-dac7-44be-a726-1066ad9b8a7a",
        "colab": {
          "base_uri": "https://localhost:8080/"
        }
      },
      "execution_count": 6,
      "outputs": [
        {
          "output_type": "stream",
          "name": "stdout",
          "text": [
            "g: 0\n",
            "k: 6\n",
            "r: 4\n"
          ]
        }
      ]
    },
    {
      "cell_type": "markdown",
      "source": [
        "Okay, let's break this line of code down step-by-step:\n",
        "\n",
        "Calculating k\n",
        "\n",
        "k=(5**2)//6\n",
        "Use code with caution\n",
        "`52`**: This part calculates 5 raised to the power of 2, which is 25.\n",
        "//6: This is the floor division operator. It divides the result (25) by 6 and keeps only the integer part of the quotient. So, 25 // 6 equals 4.\n",
        "k=: The result, 4, is then assigned to the variable k.\n",
        "Calculating g\n",
        "\n",
        "g=(4**2)%7\n",
        "Use code with caution\n",
        "`42`**: Similar to before, this calculates 4 raised to the power of 2, resulting in 16.\n",
        "%7: This is the modulo operator. It divides the result (16) by 7 and returns the remainder. So, 16 % 7 equals 2.\n",
        "g=: The result, 2, is assigned to the variable g.\n",
        "Initializing r\n",
        "\n",
        "r=5\n",
        "Use code with caution\n",
        "This line simply assigns the value 5 to the variable r.\n",
        "\n",
        "Updating g, k, and r simultaneously\n",
        "\n",
        "g,k,r =r//6,g*3,k//2\n",
        "Use code with caution\n",
        "This line performs multiple assignments at once:\n",
        "\n",
        "r//6: This calculates the floor division of r (which is 5) by 6, resulting in 0. This value will be assigned to g.\n",
        "g*3: This multiplies the current value of g (which is 2) by 3, resulting in 6. This value will be assigned to k.\n",
        "k//2: This calculates the floor division of k (which is 4) by 2, resulting in 2. This value will be assigned to r.\n",
        "In summary, this line updates the values of the variables as follows:\n",
        "\n",
        "g is changed to 0.\n",
        "k is changed to 6.\n",
        "r is changed to 2."
      ],
      "metadata": {
        "id": "hpog5BMuXKV3"
      }
    },
    {
      "cell_type": "code",
      "source": [
        "#Exercise 2 a string is contained in single or double quotes\n",
        "L=(\"giac\"*2+\"omo\"*3)\n",
        "print(L)"
      ],
      "metadata": {
        "id": "iRCEWdqUYJfs",
        "outputId": "319f6acf-2909-4bc6-bffd-2800f76ceb93",
        "colab": {
          "base_uri": "https://localhost:8080/"
        }
      },
      "execution_count": 10,
      "outputs": [
        {
          "output_type": "stream",
          "name": "stdout",
          "text": [
            "giacgiacomoomoomo\n"
          ]
        }
      ]
    },
    {
      "cell_type": "code",
      "source": [
        "#Exercise 3 len() provide the lenght of an object\n",
        "len(\"gig\"*2+\"d\"*4)"
      ],
      "metadata": {
        "id": "mCSVwCHTYrup",
        "outputId": "726ea84c-4082-47d7-d0a4-91b62551a66a",
        "colab": {
          "base_uri": "https://localhost:8080/"
        }
      },
      "execution_count": 11,
      "outputs": [
        {
          "output_type": "execute_result",
          "data": {
            "text/plain": [
              "10"
            ]
          },
          "metadata": {},
          "execution_count": 11
        }
      ]
    },
    {
      "cell_type": "code",
      "source": [
        "#Exercise 4 Indexing:phyton starts counting at 0\n",
        "g=[6,9,12,15,18]\n",
        "g[-2:-5:-1]"
      ],
      "metadata": {
        "id": "NJHwa6KFbE9a",
        "outputId": "62864972-d265-461c-f051-41b5c916395a",
        "colab": {
          "base_uri": "https://localhost:8080/"
        }
      },
      "execution_count": 2,
      "outputs": [
        {
          "output_type": "execute_result",
          "data": {
            "text/plain": [
              "[15, 12, 9]"
            ]
          },
          "metadata": {},
          "execution_count": 2
        }
      ]
    },
    {
      "cell_type": "code",
      "source": [
        "#Exercise 5 List\n",
        "a=[1,2];a.append([3,5]);a.extend([7,8]);a.pop()\n",
        "print(a)\n",
        "\n",
        "h=[1,2]*3+[4]*2\n",
        "print(h)\n",
        "\n"
      ],
      "metadata": {
        "id": "TR7mqHmRGofW",
        "outputId": "586e1395-2e93-4ec5-f1da-8a7cddd052f2",
        "colab": {
          "base_uri": "https://localhost:8080/"
        }
      },
      "execution_count": 9,
      "outputs": [
        {
          "output_type": "stream",
          "name": "stdout",
          "text": [
            "[1, 2, [3, 5], 7]\n",
            "[1, 2, 1, 2, 1, 2, 4, 4]\n"
          ]
        }
      ]
    },
    {
      "cell_type": "markdown",
      "source": [
        "Initialization:\n",
        "\n",
        "a=[1,2]: A list named a is created and initialized with two elements: 1 and 2.\n",
        "Appending:\n",
        "\n",
        "a.append([3,5]): The append() method is used to add a new element to the end of the list a. In this case, it adds a nested list [3,5], resulting in a becoming [1,2,[3,5]].\n",
        "Extending:\n",
        "\n",
        "a.extend([7,8]): The extend() method is used to add multiple elements to the end of the list a. It takes another list as an argument and adds each of its elements to a. Here, it adds 7 and 8, making a equal to [1,2,[3,5],7,8].\n",
        "Popping:\n",
        "\n",
        "a.pop(): The pop() method removes and returns the last element of the list. In this case, it removes 8 from a, leaving a as [1,2,[3,5],7].\n",
        "Printing:\n",
        "\n",
        "print(a): This line prints the current content of the list a, which is [1,2,[3,5],7]."
      ],
      "metadata": {
        "id": "t0USLUQxIeKs"
      }
    },
    {
      "cell_type": "code",
      "source": [
        "#Exercise 6 Slicing: The syntax for slicing is start:end:step\n",
        "a=[0,1,2,3,4,5,6,7,8]\n",
        "a[-4::-2]"
      ],
      "metadata": {
        "id": "Pua42uKmJFEs",
        "outputId": "9ffbcedb-08b5-4e4b-96c6-eaac5d2158ff",
        "colab": {
          "base_uri": "https://localhost:8080/"
        }
      },
      "execution_count": 10,
      "outputs": [
        {
          "output_type": "execute_result",
          "data": {
            "text/plain": [
              "[5, 3, 1]"
            ]
          },
          "metadata": {},
          "execution_count": 10
        }
      ]
    },
    {
      "cell_type": "code",
      "source": [
        "#Exercise 7\n",
        "t='giacm'\n",
        "#Provide the code that allows to return t='giacomo'\n",
        "t=t[:4]+'o'+t[-1]+'o'\n",
        "print(t)"
      ],
      "metadata": {
        "id": "xf7jnXuNJzVy",
        "outputId": "61e17b4a-860a-4d8c-bbe3-f6dff8e2f491",
        "colab": {
          "base_uri": "https://localhost:8080/"
        }
      },
      "execution_count": 12,
      "outputs": [
        {
          "output_type": "stream",
          "name": "stdout",
          "text": [
            "giacomo\n"
          ]
        }
      ]
    },
    {
      "cell_type": "code",
      "source": [
        "#Exercise 8"
      ],
      "metadata": {
        "id": "y_VrDJ96LATA"
      },
      "execution_count": null,
      "outputs": []
    },
    {
      "cell_type": "code",
      "source": [
        "#Exercise 14\n",
        "for i in range(10):\n",
        "  if i in [3,5,7]:\n",
        "    continue\n",
        "  else:\n",
        "    print(i)"
      ],
      "metadata": {
        "id": "elcNMPmNKDau",
        "outputId": "1433d3b3-73d4-4648-fcad-7d3c9895288b",
        "colab": {
          "base_uri": "https://localhost:8080/"
        }
      },
      "execution_count": 4,
      "outputs": [
        {
          "output_type": "stream",
          "name": "stdout",
          "text": [
            "0\n",
            "1\n",
            "2\n",
            "4\n",
            "6\n",
            "8\n",
            "9\n"
          ]
        }
      ]
    },
    {
      "cell_type": "code",
      "source": [
        "fruits = [\"apple\", \"banana\", \"cherry\"]\n",
        "\n",
        "for index, fruit in enumerate(fruits):\n",
        "    print(f\"Fruit at index {index} is {fruit}\")"
      ],
      "metadata": {
        "id": "zO7lp-5RT81D",
        "outputId": "4a425e55-70c2-467f-ae1c-efdfe329a495",
        "colab": {
          "base_uri": "https://localhost:8080/"
        }
      },
      "execution_count": 5,
      "outputs": [
        {
          "output_type": "stream",
          "name": "stdout",
          "text": [
            "Fruit at index 0 is apple\n",
            "Fruit at index 1 is banana\n",
            "Fruit at index 2 is cherry\n"
          ]
        }
      ]
    },
    {
      "cell_type": "code",
      "source": [
        "# Exercise 19\n",
        "a=[3,2,5,3,4,6,2,3]; b=[4,3,2,2,4,4,2,3]\n",
        "\n",
        "def pv(a,b):\n",
        "  p=[r for r,w in enumerate (a) if w==b[r]]\n",
        "  v=[a[i] for i in p]\n",
        "  return p,v"
      ],
      "metadata": {
        "id": "vwSO4ahtgyBt"
      },
      "execution_count": 24,
      "outputs": []
    },
    {
      "cell_type": "code",
      "source": [
        "# Exercise 25"
      ],
      "metadata": {
        "id": "rWtIweLS9Y9p"
      },
      "execution_count": null,
      "outputs": []
    }
  ]
}