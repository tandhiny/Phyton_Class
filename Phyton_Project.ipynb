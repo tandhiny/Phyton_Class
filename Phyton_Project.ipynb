{
  "nbformat": 4,
  "nbformat_minor": 0,
  "metadata": {
    "colab": {
      "provenance": [],
      "toc_visible": true,
      "authorship_tag": "ABX9TyPCOGQf7zUgZOLXhSL90472",
      "include_colab_link": true
    },
    "kernelspec": {
      "name": "python3",
      "display_name": "Python 3"
    },
    "language_info": {
      "name": "python"
    }
  },
  "cells": [
    {
      "cell_type": "markdown",
      "metadata": {
        "id": "view-in-github",
        "colab_type": "text"
      },
      "source": [
        "<a href=\"https://colab.research.google.com/github/tandhiny/Phyton_Class/blob/main/Phyton_Project.ipynb\" target=\"_parent\"><img src=\"https://colab.research.google.com/assets/colab-badge.svg\" alt=\"Open In Colab\"/></a>"
      ]
    },
    {
      "cell_type": "markdown",
      "source": [
        "# Phyton Project Solution"
      ],
      "metadata": {
        "id": "APRqMCcJ7bCG"
      }
    },
    {
      "cell_type": "markdown",
      "source": [
        "## Import necessary library"
      ],
      "metadata": {
        "id": "ZUuwOecPcIrt"
      }
    },
    {
      "cell_type": "code",
      "execution_count": 57,
      "metadata": {
        "id": "YNJg4NMm6r0s",
        "outputId": "62ab848c-d7f9-4899-e51e-fb1d5f62aebf",
        "colab": {
          "base_uri": "https://localhost:8080/"
        }
      },
      "outputs": [
        {
          "output_type": "stream",
          "name": "stderr",
          "text": [
            "/usr/local/lib/python3.11/dist-packages/ipykernel/ipkernel.py:283: DeprecationWarning: `should_run_async` will not call `transform_cell` automatically in the future. Please pass the result to `transformed_cell` argument and any exception that happen during thetransform in `preprocessing_exc_tuple` in IPython 7.17 and above.\n",
            "  and should_run_async(code)\n"
          ]
        }
      ],
      "source": [
        "# Import necessary libraries\n",
        "import pandas as pd\n",
        "import numpy as np\n",
        "import matplotlib.pyplot as plt\n",
        "import seaborn as sns\n",
        "from sqlalchemy import create_engine"
      ]
    },
    {
      "cell_type": "code",
      "source": [
        "# Mount google drive\n",
        "from google.colab import drive\n",
        "drive.mount('/content/drive')"
      ],
      "metadata": {
        "id": "MY0lZBPcFChR",
        "outputId": "284e2f00-9142-4d88-e240-bed8fcdb2dd8",
        "colab": {
          "base_uri": "https://localhost:8080/"
        }
      },
      "execution_count": 16,
      "outputs": [
        {
          "output_type": "stream",
          "name": "stdout",
          "text": [
            "Drive already mounted at /content/drive; to attempt to forcibly remount, call drive.mount(\"/content/drive\", force_remount=True).\n"
          ]
        }
      ]
    },
    {
      "cell_type": "markdown",
      "source": [
        "## 1. Basic Phyton Programming"
      ],
      "metadata": {
        "id": "0IWBK58BcQWS"
      }
    },
    {
      "cell_type": "markdown",
      "source": [
        "## 2. Data Manipulation"
      ],
      "metadata": {
        "id": "N39L_9pAck11"
      }
    },
    {
      "cell_type": "markdown",
      "source": [
        "### Load and Inspect Data"
      ],
      "metadata": {
        "id": "pdjFi9ngnB61"
      }
    },
    {
      "cell_type": "code",
      "source": [
        "# Load Dataset\n",
        "df = pd.read_csv(\"/content/drive/MyDrive/Colab Notebooks/Sample - Superstore.csv\", encoding='latin-1')\n"
      ],
      "metadata": {
        "collapsed": true,
        "id": "b2E7LFqG7K2-",
        "outputId": "0283016f-f932-4e7f-8e04-43ccdbd630cc",
        "colab": {
          "base_uri": "https://localhost:8080/"
        }
      },
      "execution_count": 58,
      "outputs": [
        {
          "output_type": "stream",
          "name": "stderr",
          "text": [
            "/usr/local/lib/python3.11/dist-packages/ipykernel/ipkernel.py:283: DeprecationWarning: `should_run_async` will not call `transform_cell` automatically in the future. Please pass the result to `transformed_cell` argument and any exception that happen during thetransform in `preprocessing_exc_tuple` in IPython 7.17 and above.\n",
            "  and should_run_async(code)\n"
          ]
        }
      ]
    },
    {
      "cell_type": "code",
      "source": [
        "# Read Data Set\n",
        "print(df.head())"
      ],
      "metadata": {
        "collapsed": true,
        "id": "AvOKghW0-8Po",
        "outputId": "1c3b6e07-dfb2-4271-bb1c-282eb863d1e1",
        "colab": {
          "base_uri": "https://localhost:8080/"
        }
      },
      "execution_count": 59,
      "outputs": [
        {
          "output_type": "stream",
          "name": "stdout",
          "text": [
            "   Row ID        Order ID  Order Date   Ship Date       Ship Mode Customer ID  \\\n",
            "0       1  CA-2016-152156   11/8/2016  11/11/2016    Second Class    CG-12520   \n",
            "1       2  CA-2016-152156   11/8/2016  11/11/2016    Second Class    CG-12520   \n",
            "2       3  CA-2016-138688   6/12/2016   6/16/2016    Second Class    DV-13045   \n",
            "3       4  US-2015-108966  10/11/2015  10/18/2015  Standard Class    SO-20335   \n",
            "4       5  US-2015-108966  10/11/2015  10/18/2015  Standard Class    SO-20335   \n",
            "\n",
            "     Customer Name    Segment        Country             City  ...  \\\n",
            "0      Claire Gute   Consumer  United States        Henderson  ...   \n",
            "1      Claire Gute   Consumer  United States        Henderson  ...   \n",
            "2  Darrin Van Huff  Corporate  United States      Los Angeles  ...   \n",
            "3   Sean O'Donnell   Consumer  United States  Fort Lauderdale  ...   \n",
            "4   Sean O'Donnell   Consumer  United States  Fort Lauderdale  ...   \n",
            "\n",
            "  Postal Code  Region       Product ID         Category Sub-Category  \\\n",
            "0       42420   South  FUR-BO-10001798        Furniture    Bookcases   \n",
            "1       42420   South  FUR-CH-10000454        Furniture       Chairs   \n",
            "2       90036    West  OFF-LA-10000240  Office Supplies       Labels   \n",
            "3       33311   South  FUR-TA-10000577        Furniture       Tables   \n",
            "4       33311   South  OFF-ST-10000760  Office Supplies      Storage   \n",
            "\n",
            "                                        Product Name     Sales  Quantity  \\\n",
            "0                  Bush Somerset Collection Bookcase  261.9600         2   \n",
            "1  Hon Deluxe Fabric Upholstered Stacking Chairs,...  731.9400         3   \n",
            "2  Self-Adhesive Address Labels for Typewriters b...   14.6200         2   \n",
            "3      Bretford CR4500 Series Slim Rectangular Table  957.5775         5   \n",
            "4                     Eldon Fold 'N Roll Cart System   22.3680         2   \n",
            "\n",
            "   Discount    Profit  \n",
            "0      0.00   41.9136  \n",
            "1      0.00  219.5820  \n",
            "2      0.00    6.8714  \n",
            "3      0.45 -383.0310  \n",
            "4      0.20    2.5164  \n",
            "\n",
            "[5 rows x 21 columns]\n"
          ]
        },
        {
          "output_type": "stream",
          "name": "stderr",
          "text": [
            "/usr/local/lib/python3.11/dist-packages/ipykernel/ipkernel.py:283: DeprecationWarning: `should_run_async` will not call `transform_cell` automatically in the future. Please pass the result to `transformed_cell` argument and any exception that happen during thetransform in `preprocessing_exc_tuple` in IPython 7.17 and above.\n",
            "  and should_run_async(code)\n"
          ]
        }
      ]
    },
    {
      "cell_type": "code",
      "source": [
        "# last 5 rows\n",
        "print(df.tail())"
      ],
      "metadata": {
        "collapsed": true,
        "id": "ViGlDMYIedah",
        "outputId": "179c391c-22fd-4e24-f6a3-743fd4e340b8",
        "colab": {
          "base_uri": "https://localhost:8080/"
        }
      },
      "execution_count": 60,
      "outputs": [
        {
          "output_type": "stream",
          "name": "stdout",
          "text": [
            "      Row ID        Order ID Order Date  Ship Date       Ship Mode  \\\n",
            "9989    9990  CA-2014-110422  1/21/2014  1/23/2014    Second Class   \n",
            "9990    9991  CA-2017-121258  2/26/2017   3/3/2017  Standard Class   \n",
            "9991    9992  CA-2017-121258  2/26/2017   3/3/2017  Standard Class   \n",
            "9992    9993  CA-2017-121258  2/26/2017   3/3/2017  Standard Class   \n",
            "9993    9994  CA-2017-119914   5/4/2017   5/9/2017    Second Class   \n",
            "\n",
            "     Customer ID     Customer Name   Segment        Country         City  ...  \\\n",
            "9989    TB-21400  Tom Boeckenhauer  Consumer  United States        Miami  ...   \n",
            "9990    DB-13060       Dave Brooks  Consumer  United States   Costa Mesa  ...   \n",
            "9991    DB-13060       Dave Brooks  Consumer  United States   Costa Mesa  ...   \n",
            "9992    DB-13060       Dave Brooks  Consumer  United States   Costa Mesa  ...   \n",
            "9993    CC-12220      Chris Cortes  Consumer  United States  Westminster  ...   \n",
            "\n",
            "     Postal Code  Region       Product ID         Category Sub-Category  \\\n",
            "9989       33180   South  FUR-FU-10001889        Furniture  Furnishings   \n",
            "9990       92627    West  FUR-FU-10000747        Furniture  Furnishings   \n",
            "9991       92627    West  TEC-PH-10003645       Technology       Phones   \n",
            "9992       92627    West  OFF-PA-10004041  Office Supplies        Paper   \n",
            "9993       92683    West  OFF-AP-10002684  Office Supplies   Appliances   \n",
            "\n",
            "                                           Product Name    Sales  Quantity  \\\n",
            "9989                             Ultra Door Pull Handle   25.248         3   \n",
            "9990  Tenex B1-RE Series Chair Mats for Low Pile Car...   91.960         2   \n",
            "9991                              Aastra 57i VoIP phone  258.576         2   \n",
            "9992  It's Hot Message Books with Stickers, 2 3/4\" x 5\"   29.600         4   \n",
            "9993  Acco 7-Outlet Masterpiece Power Center, Wihtou...  243.160         2   \n",
            "\n",
            "      Discount   Profit  \n",
            "9989       0.2   4.1028  \n",
            "9990       0.0  15.6332  \n",
            "9991       0.2  19.3932  \n",
            "9992       0.0  13.3200  \n",
            "9993       0.0  72.9480  \n",
            "\n",
            "[5 rows x 21 columns]\n"
          ]
        },
        {
          "output_type": "stream",
          "name": "stderr",
          "text": [
            "/usr/local/lib/python3.11/dist-packages/ipykernel/ipkernel.py:283: DeprecationWarning: `should_run_async` will not call `transform_cell` automatically in the future. Please pass the result to `transformed_cell` argument and any exception that happen during thetransform in `preprocessing_exc_tuple` in IPython 7.17 and above.\n",
            "  and should_run_async(code)\n"
          ]
        }
      ]
    },
    {
      "cell_type": "code",
      "source": [
        "# number of rows and columns\n",
        "print(df.shape)"
      ],
      "metadata": {
        "collapsed": true,
        "id": "CiOQucVrej43",
        "outputId": "836f96d9-5523-4686-b6ad-d33a0b348c42",
        "colab": {
          "base_uri": "https://localhost:8080/"
        }
      },
      "execution_count": 61,
      "outputs": [
        {
          "output_type": "stream",
          "name": "stdout",
          "text": [
            "(9994, 21)\n"
          ]
        },
        {
          "output_type": "stream",
          "name": "stderr",
          "text": [
            "/usr/local/lib/python3.11/dist-packages/ipykernel/ipkernel.py:283: DeprecationWarning: `should_run_async` will not call `transform_cell` automatically in the future. Please pass the result to `transformed_cell` argument and any exception that happen during thetransform in `preprocessing_exc_tuple` in IPython 7.17 and above.\n",
            "  and should_run_async(code)\n"
          ]
        }
      ]
    },
    {
      "cell_type": "code",
      "source": [
        "# simple statistics\n",
        "print(df.describe())"
      ],
      "metadata": {
        "collapsed": true,
        "id": "eM4-paIhep_D",
        "outputId": "e9f6f9e5-202a-43a2-ff39-edbfd0e8573e",
        "colab": {
          "base_uri": "https://localhost:8080/"
        }
      },
      "execution_count": 62,
      "outputs": [
        {
          "output_type": "stream",
          "name": "stdout",
          "text": [
            "            Row ID   Postal Code         Sales     Quantity     Discount  \\\n",
            "count  9994.000000   9994.000000   9994.000000  9994.000000  9994.000000   \n",
            "mean   4997.500000  55190.379428    229.858001     3.789574     0.156203   \n",
            "std    2885.163629  32063.693350    623.245101     2.225110     0.206452   \n",
            "min       1.000000   1040.000000      0.444000     1.000000     0.000000   \n",
            "25%    2499.250000  23223.000000     17.280000     2.000000     0.000000   \n",
            "50%    4997.500000  56430.500000     54.490000     3.000000     0.200000   \n",
            "75%    7495.750000  90008.000000    209.940000     5.000000     0.200000   \n",
            "max    9994.000000  99301.000000  22638.480000    14.000000     0.800000   \n",
            "\n",
            "            Profit  \n",
            "count  9994.000000  \n",
            "mean     28.656896  \n",
            "std     234.260108  \n",
            "min   -6599.978000  \n",
            "25%       1.728750  \n",
            "50%       8.666500  \n",
            "75%      29.364000  \n",
            "max    8399.976000  \n"
          ]
        },
        {
          "output_type": "stream",
          "name": "stderr",
          "text": [
            "/usr/local/lib/python3.11/dist-packages/ipykernel/ipkernel.py:283: DeprecationWarning: `should_run_async` will not call `transform_cell` automatically in the future. Please pass the result to `transformed_cell` argument and any exception that happen during thetransform in `preprocessing_exc_tuple` in IPython 7.17 and above.\n",
            "  and should_run_async(code)\n"
          ]
        }
      ]
    },
    {
      "cell_type": "code",
      "source": [
        "# correlations\n",
        "# Select only numeric columns for correlation calculation\n",
        "numeric_df = df.select_dtypes(include=np.number)\n",
        "print(numeric_df.corr())"
      ],
      "metadata": {
        "collapsed": true,
        "id": "H-6j1nn7gL6T",
        "outputId": "2db8b85e-07f4-42c5-be96-22795ae66e23",
        "colab": {
          "base_uri": "https://localhost:8080/"
        }
      },
      "execution_count": 63,
      "outputs": [
        {
          "output_type": "stream",
          "name": "stdout",
          "text": [
            "               Row ID  Postal Code     Sales  Quantity  Discount    Profit\n",
            "Row ID       1.000000     0.009671 -0.001359 -0.004016  0.013480  0.012497\n",
            "Postal Code  0.009671     1.000000 -0.023854  0.012761  0.058443 -0.029961\n",
            "Sales       -0.001359    -0.023854  1.000000  0.200795 -0.028190  0.479064\n",
            "Quantity    -0.004016     0.012761  0.200795  1.000000  0.008623  0.066253\n",
            "Discount     0.013480     0.058443 -0.028190  0.008623  1.000000 -0.219487\n",
            "Profit       0.012497    -0.029961  0.479064  0.066253 -0.219487  1.000000\n"
          ]
        },
        {
          "output_type": "stream",
          "name": "stderr",
          "text": [
            "/usr/local/lib/python3.11/dist-packages/ipykernel/ipkernel.py:283: DeprecationWarning: `should_run_async` will not call `transform_cell` automatically in the future. Please pass the result to `transformed_cell` argument and any exception that happen during thetransform in `preprocessing_exc_tuple` in IPython 7.17 and above.\n",
            "  and should_run_async(code)\n"
          ]
        }
      ]
    },
    {
      "cell_type": "code",
      "source": [
        "# histograms\n",
        "df.hist(figsize=(10, 10))"
      ],
      "metadata": {
        "collapsed": true,
        "id": "TDhaQdTcezyD",
        "outputId": "526eda9c-e253-443c-d86f-18816888089f",
        "colab": {
          "base_uri": "https://localhost:8080/",
          "height": 1000
        }
      },
      "execution_count": 64,
      "outputs": [
        {
          "output_type": "stream",
          "name": "stderr",
          "text": [
            "/usr/local/lib/python3.11/dist-packages/ipykernel/ipkernel.py:283: DeprecationWarning: `should_run_async` will not call `transform_cell` automatically in the future. Please pass the result to `transformed_cell` argument and any exception that happen during thetransform in `preprocessing_exc_tuple` in IPython 7.17 and above.\n",
            "  and should_run_async(code)\n"
          ]
        },
        {
          "output_type": "execute_result",
          "data": {
            "text/plain": [
              "array([[<Axes: title={'center': 'Row ID'}>,\n",
              "        <Axes: title={'center': 'Postal Code'}>],\n",
              "       [<Axes: title={'center': 'Sales'}>,\n",
              "        <Axes: title={'center': 'Quantity'}>],\n",
              "       [<Axes: title={'center': 'Discount'}>,\n",
              "        <Axes: title={'center': 'Profit'}>]], dtype=object)"
            ]
          },
          "metadata": {},
          "execution_count": 64
        },
        {
          "output_type": "display_data",
          "data": {
            "text/plain": [
              "<Figure size 1000x1000 with 6 Axes>"
            ],
            "image/png": "[encoded data removed]"
          },
          "metadata": {}
        }
      ]
    },
    {
      "cell_type": "code",
      "source": [
        "# skewness\n",
        "# Calculate skewness only for numeric columns\n",
        "numeric_df = df.select_dtypes(include=np.number)\n",
        "print(numeric_df.skew())"
      ],
      "metadata": {
        "collapsed": true,
        "id": "YtoJJb1bfxUe",
        "outputId": "1bb72f5d-31bf-4257-df2d-b3b076db667f",
        "colab": {
          "base_uri": "https://localhost:8080/"
        }
      },
      "execution_count": 65,
      "outputs": [
        {
          "output_type": "stream",
          "name": "stdout",
          "text": [
            "Row ID          0.000000\n",
            "Postal Code    -0.128526\n",
            "Sales          12.972752\n",
            "Quantity        1.278545\n",
            "Discount        1.684295\n",
            "Profit          7.561432\n",
            "dtype: float64\n"
          ]
        },
        {
          "output_type": "stream",
          "name": "stderr",
          "text": [
            "/usr/local/lib/python3.11/dist-packages/ipykernel/ipkernel.py:283: DeprecationWarning: `should_run_async` will not call `transform_cell` automatically in the future. Please pass the result to `transformed_cell` argument and any exception that happen during thetransform in `preprocessing_exc_tuple` in IPython 7.17 and above.\n",
            "  and should_run_async(code)\n"
          ]
        }
      ]
    },
    {
      "cell_type": "code",
      "source": [
        "# list of columns\n",
        "print(df.columns)"
      ],
      "metadata": {
        "collapsed": true,
        "id": "Vsr-lTBLgf1W",
        "outputId": "cf4d2005-7275-4269-ffc7-6123b2f8e082",
        "colab": {
          "base_uri": "https://localhost:8080/"
        }
      },
      "execution_count": 66,
      "outputs": [
        {
          "output_type": "stream",
          "name": "stdout",
          "text": [
            "Index(['Row ID', 'Order ID', 'Order Date', 'Ship Date', 'Ship Mode',\n",
            "       'Customer ID', 'Customer Name', 'Segment', 'Country', 'City', 'State',\n",
            "       'Postal Code', 'Region', 'Product ID', 'Category', 'Sub-Category',\n",
            "       'Product Name', 'Sales', 'Quantity', 'Discount', 'Profit'],\n",
            "      dtype='object')\n"
          ]
        },
        {
          "output_type": "stream",
          "name": "stderr",
          "text": [
            "/usr/local/lib/python3.11/dist-packages/ipykernel/ipkernel.py:283: DeprecationWarning: `should_run_async` will not call `transform_cell` automatically in the future. Please pass the result to `transformed_cell` argument and any exception that happen during thetransform in `preprocessing_exc_tuple` in IPython 7.17 and above.\n",
            "  and should_run_async(code)\n"
          ]
        }
      ]
    },
    {
      "cell_type": "code",
      "source": [
        "# Install the pyjanitor package\n",
        "!pip install pyjanitor\n"
      ],
      "metadata": {
        "id": "pR4ZW5xegkDH"
      },
      "execution_count": null,
      "outputs": []
    },
    {
      "cell_type": "code",
      "source": [
        "# cleaning column names\n",
        "from janitor import clean_names\n",
        "df = clean_names(df)\n",
        "print(df.columns)"
      ],
      "metadata": {
        "collapsed": true,
        "id": "HqOfqAbTh4pr",
        "outputId": "4a332dd5-1450-48d7-b422-4e23dbbc9c0c",
        "colab": {
          "base_uri": "https://localhost:8080/"
        }
      },
      "execution_count": 67,
      "outputs": [
        {
          "output_type": "stream",
          "name": "stdout",
          "text": [
            "Index(['row_id', 'order_id', 'order_date', 'ship_date', 'ship_mode',\n",
            "       'customer_id', 'customer_name', 'segment', 'country', 'city', 'state',\n",
            "       'postal_code', 'region', 'product_id', 'category', 'sub_category',\n",
            "       'product_name', 'sales', 'quantity', 'discount', 'profit'],\n",
            "      dtype='object')\n"
          ]
        },
        {
          "output_type": "stream",
          "name": "stderr",
          "text": [
            "/usr/local/lib/python3.11/dist-packages/ipykernel/ipkernel.py:283: DeprecationWarning: `should_run_async` will not call `transform_cell` automatically in the future. Please pass the result to `transformed_cell` argument and any exception that happen during thetransform in `preprocessing_exc_tuple` in IPython 7.17 and above.\n",
            "  and should_run_async(code)\n"
          ]
        }
      ]
    },
    {
      "cell_type": "code",
      "source": [
        "# Checking for null values in the DataFrame\n",
        "print(df.isnull().sum())"
      ],
      "metadata": {
        "collapsed": true,
        "id": "7wfoObAcUgXT",
        "outputId": "d5786b66-874f-40f1-b7ac-7094b7447c53",
        "colab": {
          "base_uri": "https://localhost:8080/"
        }
      },
      "execution_count": 68,
      "outputs": [
        {
          "output_type": "stream",
          "name": "stdout",
          "text": [
            "row_id           0\n",
            "order_id         0\n",
            "order_date       0\n",
            "ship_date        0\n",
            "ship_mode        0\n",
            "customer_id      0\n",
            "customer_name    0\n",
            "segment          0\n",
            "country          0\n",
            "city             0\n",
            "state            0\n",
            "postal_code      0\n",
            "region           0\n",
            "product_id       0\n",
            "category         0\n",
            "sub_category     0\n",
            "product_name     0\n",
            "sales            0\n",
            "quantity         0\n",
            "discount         0\n",
            "profit           0\n",
            "dtype: int64\n"
          ]
        },
        {
          "output_type": "stream",
          "name": "stderr",
          "text": [
            "/usr/local/lib/python3.11/dist-packages/ipykernel/ipkernel.py:283: DeprecationWarning: `should_run_async` will not call `transform_cell` automatically in the future. Please pass the result to `transformed_cell` argument and any exception that happen during thetransform in `preprocessing_exc_tuple` in IPython 7.17 and above.\n",
            "  and should_run_async(code)\n"
          ]
        }
      ]
    },
    {
      "cell_type": "code",
      "source": [
        "# Check for duplicates\n",
        "print(\"Number of duplicate rows:\", df.duplicated().sum())"
      ],
      "metadata": {
        "collapsed": true,
        "id": "ZzMhE7V8mAJ2",
        "outputId": "b24d8c18-ea81-42fa-ab03-cda29b6bfeb0",
        "colab": {
          "base_uri": "https://localhost:8080/"
        }
      },
      "execution_count": 73,
      "outputs": [
        {
          "output_type": "stream",
          "name": "stdout",
          "text": [
            "Number of duplicate rows: 0\n"
          ]
        },
        {
          "output_type": "stream",
          "name": "stderr",
          "text": [
            "/usr/local/lib/python3.11/dist-packages/ipykernel/ipkernel.py:283: DeprecationWarning: `should_run_async` will not call `transform_cell` automatically in the future. Please pass the result to `transformed_cell` argument and any exception that happen during thetransform in `preprocessing_exc_tuple` in IPython 7.17 and above.\n",
            "  and should_run_async(code)\n"
          ]
        }
      ]
    },
    {
      "cell_type": "markdown",
      "source": [
        "### Clean Dataset - Handle Missing Value"
      ],
      "metadata": {
        "id": "ZVXVLSdlnbxz"
      }
    },
    {
      "cell_type": "code",
      "source": [
        "# Since there's no missing value in the dataset\n",
        "# Simulate missing value\n",
        "df.loc[5:10, 'sales'] = np.nan  # Add missing values in 'sales'\n",
        "df.loc[15:20, 'profit'] = np.nan  # Add missing values in 'profit'\n"
      ],
      "metadata": {
        "id": "80oMjWvqb5NT",
        "outputId": "88615308-5f53-4976-d298-f39fcab5a9b6",
        "colab": {
          "base_uri": "https://localhost:8080/"
        }
      },
      "execution_count": 69,
      "outputs": [
        {
          "output_type": "stream",
          "name": "stderr",
          "text": [
            "/usr/local/lib/python3.11/dist-packages/ipykernel/ipkernel.py:283: DeprecationWarning: `should_run_async` will not call `transform_cell` automatically in the future. Please pass the result to `transformed_cell` argument and any exception that happen during thetransform in `preprocessing_exc_tuple` in IPython 7.17 and above.\n",
            "  and should_run_async(code)\n"
          ]
        }
      ]
    },
    {
      "cell_type": "code",
      "source": [
        "# Check for missing values\n",
        "print(df.isnull().sum())"
      ],
      "metadata": {
        "collapsed": true,
        "id": "2sVqOPKFi6_O",
        "outputId": "41d34ec0-ed5d-4f0a-d5af-c61f60cf6806",
        "colab": {
          "base_uri": "https://localhost:8080/"
        }
      },
      "execution_count": 70,
      "outputs": [
        {
          "output_type": "stream",
          "name": "stdout",
          "text": [
            "row_id           0\n",
            "order_id         0\n",
            "order_date       0\n",
            "ship_date        0\n",
            "ship_mode        0\n",
            "customer_id      0\n",
            "customer_name    0\n",
            "segment          0\n",
            "country          0\n",
            "city             0\n",
            "state            0\n",
            "postal_code      0\n",
            "region           0\n",
            "product_id       0\n",
            "category         0\n",
            "sub_category     0\n",
            "product_name     0\n",
            "sales            6\n",
            "quantity         0\n",
            "discount         0\n",
            "profit           6\n",
            "dtype: int64\n"
          ]
        },
        {
          "output_type": "stream",
          "name": "stderr",
          "text": [
            "/usr/local/lib/python3.11/dist-packages/ipykernel/ipkernel.py:283: DeprecationWarning: `should_run_async` will not call `transform_cell` automatically in the future. Please pass the result to `transformed_cell` argument and any exception that happen during thetransform in `preprocessing_exc_tuple` in IPython 7.17 and above.\n",
            "  and should_run_async(code)\n"
          ]
        }
      ]
    },
    {
      "cell_type": "code",
      "source": [
        "# Handle missing values: Fill missing 'Sales' and 'Profit' with median (since data is not normally distributed)\n",
        "df['sales'] = df['sales'].fillna(df['sales'].median())\n",
        "df['profit'] = df['profit'].fillna(df['profit'].median())"
      ],
      "metadata": {
        "id": "_cmLKl0ajg-e",
        "outputId": "b8e017d1-a95b-4d9d-a7d5-1f8c4313688f",
        "colab": {
          "base_uri": "https://localhost:8080/"
        }
      },
      "execution_count": 71,
      "outputs": [
        {
          "output_type": "stream",
          "name": "stderr",
          "text": [
            "/usr/local/lib/python3.11/dist-packages/ipykernel/ipkernel.py:283: DeprecationWarning: `should_run_async` will not call `transform_cell` automatically in the future. Please pass the result to `transformed_cell` argument and any exception that happen during thetransform in `preprocessing_exc_tuple` in IPython 7.17 and above.\n",
            "  and should_run_async(code)\n"
          ]
        }
      ]
    },
    {
      "cell_type": "code",
      "source": [
        "# Verify there are no missing values\n",
        "print(df.isnull().sum())"
      ],
      "metadata": {
        "collapsed": true,
        "id": "pElsfGDxkUgi",
        "outputId": "9053dc99-468a-40a0-e1af-f1608cb16856",
        "colab": {
          "base_uri": "https://localhost:8080/"
        }
      },
      "execution_count": 72,
      "outputs": [
        {
          "output_type": "stream",
          "name": "stdout",
          "text": [
            "row_id           0\n",
            "order_id         0\n",
            "order_date       0\n",
            "ship_date        0\n",
            "ship_mode        0\n",
            "customer_id      0\n",
            "customer_name    0\n",
            "segment          0\n",
            "country          0\n",
            "city             0\n",
            "state            0\n",
            "postal_code      0\n",
            "region           0\n",
            "product_id       0\n",
            "category         0\n",
            "sub_category     0\n",
            "product_name     0\n",
            "sales            0\n",
            "quantity         0\n",
            "discount         0\n",
            "profit           0\n",
            "dtype: int64\n"
          ]
        },
        {
          "output_type": "stream",
          "name": "stderr",
          "text": [
            "/usr/local/lib/python3.11/dist-packages/ipykernel/ipkernel.py:283: DeprecationWarning: `should_run_async` will not call `transform_cell` automatically in the future. Please pass the result to `transformed_cell` argument and any exception that happen during thetransform in `preprocessing_exc_tuple` in IPython 7.17 and above.\n",
            "  and should_run_async(code)\n"
          ]
        }
      ]
    },
    {
      "cell_type": "markdown",
      "source": [
        "### Clean Dataset - Handle Replicate Value"
      ],
      "metadata": {
        "id": "YeZ9ozlanmqS"
      }
    },
    {
      "cell_type": "code",
      "source": [
        "# Since there's no duplicate value in the dataset\n",
        "# Simulate duplicate rows to the dataset\n",
        "duplicate_rows = df.iloc[0:5]\n",
        "df = pd.concat([df, duplicate_rows])"
      ],
      "metadata": {
        "collapsed": true,
        "id": "GVBpGqPgnstY",
        "outputId": "58e4d4f4-f35c-4157-c6e1-e80a73d0e38b",
        "colab": {
          "base_uri": "https://localhost:8080/"
        }
      },
      "execution_count": 74,
      "outputs": [
        {
          "output_type": "stream",
          "name": "stderr",
          "text": [
            "/usr/local/lib/python3.11/dist-packages/ipykernel/ipkernel.py:283: DeprecationWarning: `should_run_async` will not call `transform_cell` automatically in the future. Please pass the result to `transformed_cell` argument and any exception that happen during thetransform in `preprocessing_exc_tuple` in IPython 7.17 and above.\n",
            "  and should_run_async(code)\n"
          ]
        }
      ]
    },
    {
      "cell_type": "code",
      "source": [
        "# Check for duplicates\n",
        "print(\"Number of duplicate rows:\", df.duplicated().sum())"
      ],
      "metadata": {
        "collapsed": true,
        "id": "fewpsYSpoLns",
        "outputId": "563fc78c-31f6-4e7c-8e90-e6e0011c4b23",
        "colab": {
          "base_uri": "https://localhost:8080/"
        }
      },
      "execution_count": 75,
      "outputs": [
        {
          "output_type": "stream",
          "name": "stdout",
          "text": [
            "Number of duplicate rows: 5\n"
          ]
        },
        {
          "output_type": "stream",
          "name": "stderr",
          "text": [
            "/usr/local/lib/python3.11/dist-packages/ipykernel/ipkernel.py:283: DeprecationWarning: `should_run_async` will not call `transform_cell` automatically in the future. Please pass the result to `transformed_cell` argument and any exception that happen during thetransform in `preprocessing_exc_tuple` in IPython 7.17 and above.\n",
            "  and should_run_async(code)\n"
          ]
        }
      ]
    },
    {
      "cell_type": "code",
      "source": [
        "# Remove duplicate rows\n",
        "df = df.drop_duplicates()"
      ],
      "metadata": {
        "collapsed": true,
        "id": "xCfzZ0oxoQbu",
        "outputId": "f8831ed7-381b-4345-df8d-b0e5e2bf9a09",
        "colab": {
          "base_uri": "https://localhost:8080/"
        }
      },
      "execution_count": 76,
      "outputs": [
        {
          "output_type": "stream",
          "name": "stderr",
          "text": [
            "/usr/local/lib/python3.11/dist-packages/ipykernel/ipkernel.py:283: DeprecationWarning: `should_run_async` will not call `transform_cell` automatically in the future. Please pass the result to `transformed_cell` argument and any exception that happen during thetransform in `preprocessing_exc_tuple` in IPython 7.17 and above.\n",
            "  and should_run_async(code)\n"
          ]
        }
      ]
    },
    {
      "cell_type": "code",
      "source": [
        "# Verify duplicates are removed\n",
        "print(\"Number of duplicate rows:\", df.duplicated().sum())"
      ],
      "metadata": {
        "collapsed": true,
        "id": "hUhLGN4Qoce9",
        "outputId": "fb96e511-dd72-4aff-cf60-99764b717214",
        "colab": {
          "base_uri": "https://localhost:8080/"
        }
      },
      "execution_count": 77,
      "outputs": [
        {
          "output_type": "stream",
          "name": "stdout",
          "text": [
            "Number of duplicate rows: 0\n"
          ]
        },
        {
          "output_type": "stream",
          "name": "stderr",
          "text": [
            "/usr/local/lib/python3.11/dist-packages/ipykernel/ipkernel.py:283: DeprecationWarning: `should_run_async` will not call `transform_cell` automatically in the future. Please pass the result to `transformed_cell` argument and any exception that happen during thetransform in `preprocessing_exc_tuple` in IPython 7.17 and above.\n",
            "  and should_run_async(code)\n"
          ]
        }
      ]
    },
    {
      "cell_type": "markdown",
      "source": [
        "### Filter, Sort and Group Data"
      ],
      "metadata": {
        "id": "XbE7o5d-o4wX"
      }
    },
    {
      "cell_type": "code",
      "source": [
        "# Sort data by 'Profit' in descending order and top 10\n",
        "sorted_data = df.sort_values(by='profit', ascending=False).head(10)\n",
        "print(sorted_data)"
      ],
      "metadata": {
        "collapsed": true,
        "id": "AZQo0xnDo37b",
        "outputId": "1f08a43e-9df0-43d9-b66d-a592836eaec2",
        "colab": {
          "base_uri": "https://localhost:8080/"
        }
      },
      "execution_count": 81,
      "outputs": [
        {
          "output_type": "stream",
          "name": "stdout",
          "text": [
            "      row_id        order_id  order_date   ship_date       ship_mode  \\\n",
            "6826    6827  CA-2016-118689   10/2/2016   10/9/2016  Standard Class   \n",
            "8153    8154  CA-2017-140151   3/23/2017   3/25/2017     First Class   \n",
            "4190    4191  CA-2017-166709  11/17/2017  11/22/2017  Standard Class   \n",
            "9039    9040  CA-2016-117121  12/17/2016  12/21/2016  Standard Class   \n",
            "4098    4099  CA-2014-116904   9/23/2014   9/28/2014  Standard Class   \n",
            "2623    2624  CA-2017-127180  10/22/2017  10/24/2017     First Class   \n",
            "509      510  CA-2015-145352   3/16/2015   3/22/2015  Standard Class   \n",
            "8488    8489  CA-2016-158841    2/2/2016    2/4/2016    Second Class   \n",
            "7666    7667  US-2016-140158   10/4/2016   10/8/2016  Standard Class   \n",
            "6520    6521  CA-2017-138289   1/16/2017   1/18/2017    Second Class   \n",
            "\n",
            "     customer_id         customer_name      segment        country  \\\n",
            "6826    TC-20980          Tamara Chand    Corporate  United States   \n",
            "8153    RB-19360          Raymond Buch     Consumer  United States   \n",
            "4190    HL-15040          Hunter Lopez     Consumer  United States   \n",
            "9039    AB-10105         Adrian Barton     Consumer  United States   \n",
            "4098    SC-20095          Sanjit Chand     Consumer  United States   \n",
            "2623    TA-21385          Tom Ashbrook  Home Office  United States   \n",
            "509     CM-12385  Christopher Martinez     Consumer  United States   \n",
            "8488    SE-20110          Sanjit Engle     Consumer  United States   \n",
            "7666    DR-12940         Daniel Raglin  Home Office  United States   \n",
            "6520    AR-10540           Andy Reiter     Consumer  United States   \n",
            "\n",
            "               city  ... postal_code   region       product_id  \\\n",
            "6826      Lafayette  ...       47905  Central  TEC-CO-10004722   \n",
            "8153        Seattle  ...       98115     West  TEC-CO-10004722   \n",
            "4190         Newark  ...       19711     East  TEC-CO-10004722   \n",
            "9039        Detroit  ...       48205  Central  OFF-BI-10000545   \n",
            "4098    Minneapolis  ...       55407  Central  OFF-BI-10001120   \n",
            "2623  New York City  ...       10024     East  TEC-CO-10004722   \n",
            "509         Atlanta  ...       30318    South  OFF-BI-10003527   \n",
            "8488      Arlington  ...       22204    South  TEC-MA-10001127   \n",
            "7666     Providence  ...        2908     East  TEC-CO-10001449   \n",
            "6520        Jackson  ...       49201  Central  OFF-BI-10004995   \n",
            "\n",
            "             category sub_category  \\\n",
            "6826       Technology      Copiers   \n",
            "8153       Technology      Copiers   \n",
            "4190       Technology      Copiers   \n",
            "9039  Office Supplies      Binders   \n",
            "4098  Office Supplies      Binders   \n",
            "2623       Technology      Copiers   \n",
            "509   Office Supplies      Binders   \n",
            "8488       Technology     Machines   \n",
            "7666       Technology      Copiers   \n",
            "6520  Office Supplies      Binders   \n",
            "\n",
            "                                           product_name      sales  quantity  \\\n",
            "6826              Canon imageCLASS 2200 Advanced Copier  17499.950         5   \n",
            "8153              Canon imageCLASS 2200 Advanced Copier  13999.960         4   \n",
            "4190              Canon imageCLASS 2200 Advanced Copier  10499.970         3   \n",
            "9039   GBC Ibimaster 500 Manual ProClick Binding System   9892.740        13   \n",
            "4098               Ibico EPK-21 Electric Binding System   9449.950         5   \n",
            "2623              Canon imageCLASS 2200 Advanced Copier  11199.968         4   \n",
            "509   Fellowes PB500 Electric Punch Plastic Comb Bin...   6354.950         5   \n",
            "8488  HP Designjet T520 Inkjet Large Format Printer ...   8749.950         5   \n",
            "7666               Hewlett Packard LaserJet 3310 Copier   5399.910         9   \n",
            "6520          GBC DocuBind P400 Electric Binding System   5443.960         4   \n",
            "\n",
            "      discount     profit  \n",
            "6826       0.0  8399.9760  \n",
            "8153       0.0  6719.9808  \n",
            "4190       0.0  5039.9856  \n",
            "9039       0.0  4946.3700  \n",
            "4098       0.0  4630.4755  \n",
            "2623       0.2  3919.9888  \n",
            "509        0.0  3177.4750  \n",
            "8488       0.0  2799.9840  \n",
            "7666       0.0  2591.9568  \n",
            "6520       0.0  2504.2216  \n",
            "\n",
            "[10 rows x 21 columns]\n"
          ]
        },
        {
          "output_type": "stream",
          "name": "stderr",
          "text": [
            "/usr/local/lib/python3.11/dist-packages/ipykernel/ipkernel.py:283: DeprecationWarning: `should_run_async` will not call `transform_cell` automatically in the future. Please pass the result to `transformed_cell` argument and any exception that happen during thetransform in `preprocessing_exc_tuple` in IPython 7.17 and above.\n",
            "  and should_run_async(code)\n"
          ]
        }
      ]
    },
    {
      "cell_type": "markdown",
      "source": [
        "## 3. Mathematical Operations"
      ],
      "metadata": {
        "id": "Rp_321Q2pDMf"
      }
    },
    {
      "cell_type": "markdown",
      "source": [
        "## 4. Data Visualization"
      ],
      "metadata": {
        "id": "6HnlNxKfpH4l"
      }
    },
    {
      "cell_type": "markdown",
      "source": [
        "## 5. SQL Integration"
      ],
      "metadata": {
        "id": "tEN-EDQdpNxh"
      }
    }
  ]
}