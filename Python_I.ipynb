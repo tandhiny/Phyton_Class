{
  "nbformat": 4,
  "nbformat_minor": 0,
  "metadata": {
    "colab": {
      "provenance": [],
      "toc_visible": true,
      "include_colab_link": true
    },
    "kernelspec": {
      "name": "python3",
      "display_name": "Python 3"
    },
    "language_info": {
      "name": "python"
    }
  },
  "cells": [
    {
      "cell_type": "markdown",
      "metadata": {
        "id": "view-in-github",
        "colab_type": "text"
      },
      "source": [
        "<a href=\"https://colab.research.google.com/github/tandhiny/Phyton_Class/blob/main/Python_I.ipynb\" target=\"_parent\"><img src=\"https://colab.research.google.com/assets/colab-badge.svg\" alt=\"Open In Colab\"/></a>"
      ]
    },
    {
      "cell_type": "markdown",
      "source": [
        "# Python Programming for Business Analytics - Basics of Python - I"
      ],
      "metadata": {
        "id": "vAY9fp6lpFXt"
      }
    },
    {
      "cell_type": "markdown",
      "source": [
        "## Agenda"
      ],
      "metadata": {
        "id": "0YX4IrWAzgFq"
      }
    },
    {
      "cell_type": "markdown",
      "source": [
        " - About Python, Colab and Github\n",
        " - Basic Python Objects\n",
        " - Importing/exporting data\n",
        " - Python modules\n",
        " - Manipulation with pandas\n",
        " - Vizualizations"
      ],
      "metadata": {
        "id": "daegsnBJzim-"
      }
    },
    {
      "cell_type": "markdown",
      "source": [
        "## About Python"
      ],
      "metadata": {
        "id": "Sj3qKuiNpYsl"
      }
    },
    {
      "cell_type": "markdown",
      "source": [
        "- Guido van Rossum and the History of Python\n",
        " - Guido van Rossum:Often referred to as the \"Benevolent Dictator For Life\" (BDFL) of Python during its early years, he created Python while working at CWI (Centrum Wiskunde & Informatica) in the Netherlands.\n",
        " - His goal was to develop a language that emphasized readability and ease of use, inspired by the ABC programming language.\n",
        "\n",
        " - First Release in 1991: Python was officially released in February 1991 as version 0.9.0. The initial release already included core features such as exception handling, functions, and modules, as well as data types like strings, lists, and dictionaries.\n",
        "\n",
        "- Code readability\n",
        " - Code Readability: Python’s design prioritizes clean and easy-to-read syntax, making it an excellent choice for beginners and professionals alike.\n",
        " - Unlike other languages, Python uses whitespace and indentation to define blocks of code rather than relying on braces {} or other special characters. This strict enforcement of indentation contributes to its readability but requires discipline when writing code.\n",
        "\n",
        " - Flexible Programming Paradigms:Python supports procedural, object-oriented, and functional programming, allowing developers to choose the paradigm best suited for their project.\n",
        "\n",
        " - This flexibility has made Python a popular choice in diverse fields such as web development, data science, artificial intelligence, and scientific computing.\n",
        "\n",
        "- Versions and Evolution:\n",
        "  - Version 2.x and 3.x: Python 2.x, introduced in 2000, became widely used but included certain limitations and design issues that made future updates incompatible.\n",
        " - Python 3.x, released in 2008, addressed many of these issues, introducing improved features like better Unicode support and more consistent syntax.\n",
        "\n",
        " - Retirement of Version 2.x: After a long period of coexistence, support for Python 2.x officially ended on January 1, 2020, marking its retirement.\n",
        " - Developers were encouraged to transition to Python 3.x, as Python 2.x no longer receives updates or security patches."
      ],
      "metadata": {
        "id": "X3AHcWOapd25"
      }
    },
    {
      "cell_type": "markdown",
      "source": [
        "- Text editors:\n",
        " - General editors for any text file\n",
        " - Most are not design with only Python in mind\n",
        " - Most popular: Sublime Text and Atom\n",
        "- Full IDEs:\n",
        " - Design specifically for Python\n",
        " - Lots of extra functionality\n",
        " - Most popular: Spyder and PyCharm\n",
        "- **Notebook environments**:\n",
        " - Allow you to combine code, markdown, and visualizations in one place\n",
        "  - Ideal for data analysis and machine learning tasks\n",
        " - Great for learning\n",
        " - See input and output next to each other\n",
        " - Most popular: Jupyter Notebook and Google Colab."
      ],
      "metadata": {
        "id": "sBHzlRAbp_o4"
      }
    },
    {
      "cell_type": "markdown",
      "source": [
        "## Why learn Python"
      ],
      "metadata": {
        "id": "cIBTGjWqsaeI"
      }
    },
    {
      "cell_type": "markdown",
      "source": [
        "- User-Friendly: Beginner-friendly syntax and readability.\n",
        "\n",
        "- Versatile Applications:\n",
        "\n",
        "  - Web development\n",
        "\n",
        "  - Data analysis and visualization\n",
        "\n",
        "  - Machine learning and AI\n",
        "\n",
        "  - Scripting and automation\n",
        "\n",
        " - Game development\n",
        "\n",
        "- Community Support: Large, active community and abundant resources."
      ],
      "metadata": {
        "id": "vku7xjx6sdL5"
      }
    },
    {
      "cell_type": "markdown",
      "source": [
        " - Web Development: Frameworks like Django and Flask.\n",
        "\n",
        " - Data Science: Libraries like pandas, NumPy, and Matplotlib.\n",
        "\n",
        " - Machine Learning: Libraries like TensorFlow, PyTorch, and Scikit-learn.\n",
        "\n",
        " - Game Development: Libraries like Pygame.\n",
        "\n",
        " - Automation: Automate tasks using scripts."
      ],
      "metadata": {
        "id": "EgdwdONmsxmV"
      }
    },
    {
      "cell_type": "markdown",
      "source": [
        "## Basic syntax"
      ],
      "metadata": {
        "id": "qW9v14B3tABZ"
      }
    },
    {
      "cell_type": "code",
      "source": [
        "# variables\n",
        "x = 10\n",
        "name = \"Python\""
      ],
      "metadata": {
        "id": "wEb12-oZqs3m"
      },
      "execution_count": null,
      "outputs": []
    },
    {
      "cell_type": "code",
      "source": [
        "# Conditional statements\n",
        "if x > 5:\n",
        "    print(\"x is greater than 5\")"
      ],
      "metadata": {
        "id": "j-BFj2KItK4U",
        "outputId": "15fdf36a-f341-4b33-a093-5410661025ff",
        "colab": {
          "base_uri": "https://localhost:8080/"
        }
      },
      "execution_count": null,
      "outputs": [
        {
          "output_type": "stream",
          "name": "stdout",
          "text": [
            "x is greater than 5\n"
          ]
        }
      ]
    },
    {
      "cell_type": "code",
      "source": [
        "# loops\n",
        "for i in range(5):\n",
        "    print(i)"
      ],
      "metadata": {
        "id": "JZAp5ukStTEe",
        "outputId": "2fe89c3e-d9b2-46e5-fbec-3cf3668fc1d8",
        "colab": {
          "base_uri": "https://localhost:8080/"
        }
      },
      "execution_count": null,
      "outputs": [
        {
          "output_type": "stream",
          "name": "stdout",
          "text": [
            "0\n",
            "1\n",
            "2\n",
            "3\n",
            "4\n"
          ]
        }
      ]
    },
    {
      "cell_type": "code",
      "source": [
        "x = 10\n",
        "y = 20\n",
        "print(\"Sum of x and y is:\", x + y)"
      ],
      "metadata": {
        "id": "me3rzESSwZ8z",
        "outputId": "920a972b-0806-4bdf-f56d-e6717d9405b5",
        "colab": {
          "base_uri": "https://localhost:8080/"
        }
      },
      "execution_count": null,
      "outputs": [
        {
          "output_type": "stream",
          "name": "stdout",
          "text": [
            "Sum of x and y is: 30\n"
          ]
        }
      ]
    },
    {
      "cell_type": "markdown",
      "source": [
        "## Resources"
      ],
      "metadata": {
        "id": "Y14k2PRGvu1x"
      }
    },
    {
      "cell_type": "markdown",
      "source": [
        " - Python books (https://pythonbooks.org/)\n",
        "\n",
        "- Python books (https://pythonbooks.revolunet.com/)\n",
        "\n",
        "- Python newsletters (https://www.pythonweekly.com/)\n",
        "\n",
        "- Python for beginners (https://www.pythonforbeginners.com/)\n",
        "\n",
        "- Official Python Documentation: \"https://docs.python.org/3/\"\n",
        "\n",
        "- Python Tutorials: \"https://www.w3schools.com/python/"
      ],
      "metadata": {
        "id": "qx7lZSM-vyOn"
      }
    },
    {
      "cell_type": "markdown",
      "source": [
        "## Installation"
      ],
      "metadata": {
        "id": "t_OQifZBv4kL"
      }
    },
    {
      "cell_type": "markdown",
      "source": [
        "- Standard Python (via python.org)\n",
        "- Anaconda (ideal for data science) (miniconda)\n",
        "- Google Colab (browser-based Jupyter Notebook)"
      ],
      "metadata": {
        "id": "5r3wDGJDv6Xq"
      }
    },
    {
      "cell_type": "markdown",
      "source": [
        "## Task"
      ],
      "metadata": {
        "id": "Ns7vuGF8ykxq"
      }
    },
    {
      "cell_type": "markdown",
      "source": [
        "Create a new local folder and install python from python.org to your computer."
      ],
      "metadata": {
        "id": "YxiMVUM-ymyi"
      }
    },
    {
      "cell_type": "markdown",
      "source": [
        "# Google colab"
      ],
      "metadata": {
        "id": "oEQSu5ElttGh"
      }
    },
    {
      "cell_type": "markdown",
      "source": [
        "## About Google colab"
      ],
      "metadata": {
        "id": "0gdEm4k5tu15"
      }
    },
    {
      "cell_type": "markdown",
      "source": [
        "- About:\n",
        " - Definition: Google Colab (Collaboratory) is a free cloud-based platform for coding and data analysis using Python.\n",
        "\n",
        " - Developed by: Google Research.\n",
        "\n",
        " - Purpose: Designed for machine learning, data science, and collaborative coding.\n",
        "\n",
        "- Key features:\n",
        " - Cloud-Based: No setup required; everything runs on Google’s servers.\n",
        "\n",
        " - Free GPU and TPU Support: Access powerful hardware for machine learning tasks.\n",
        "\n",
        " - Collaboration: Share notebooks and collaborate in real-time.\n",
        "\n",
        " - Integration: Seamlessly integrates with Google Drive.\n",
        "\n",
        " - Pre-installed Libraries: Includes popular Python libraries like NumPy, pandas, TensorFlow, etc."
      ],
      "metadata": {
        "id": "hOV6xpOwt2ml"
      }
    },
    {
      "cell_type": "markdown",
      "source": [
        "## Key components"
      ],
      "metadata": {
        "id": "YZw3jyjPuXKx"
      }
    },
    {
      "cell_type": "markdown",
      "source": [
        " - Code Cells: Write and execute Python code.\n",
        "\n",
        " - Text Cells: Add Markdown text for explanations and notes.\n",
        "\n",
        " - File Management: Access local and Google Drive files.\n",
        "\n",
        " - Runtime:\n",
        "\n",
        "  - Connect to hosted hardware (CPU, GPU, TPU).\n",
        "\n",
        "  - Manage runtime sessions."
      ],
      "metadata": {
        "id": "LQ3ks37audve"
      }
    },
    {
      "cell_type": "markdown",
      "source": [
        "## Advantages vs. disadvantages of google colab"
      ],
      "metadata": {
        "id": "neOsSo9MxsY2"
      }
    },
    {
      "cell_type": "markdown",
      "source": [
        "- Advantages:\n",
        "\n",
        " - Free Access: Use without cost for most use cases.\n",
        "\n",
        " - Accessible Anywhere: Run code from any device with an internet connection.\n",
        "\n",
        " - No Installation: No need to install Python or additional libraries.\n",
        "\n",
        " - Resource-Friendly: Saves local system resources.\n",
        "\n",
        " - Easy Sharing: Shareable links for notebooks.\n",
        "\n",
        " - GPU/TPU Support: Provides access to powerful hardware for computation.\n",
        "\n",
        "- Disadvantages:\n",
        "\n",
        " - Session Limits: Sessions disconnect after a certain period of inactivity.\n",
        "\n",
        " - Resource Quotas: Limited GPU/TPU access based on usage.\n",
        "\n",
        " - Dependency Management: Custom libraries must be reinstalled in every session (not entirely true).\n",
        "\n",
        " - Limited Customization: Not ideal for complex, large-scale projects.\n",
        "\n",
        " - Data Privacy: Data is stored in the cloud, which may raise concerns for sensitive information."
      ],
      "metadata": {
        "id": "nUnyu_pMxw7O"
      }
    },
    {
      "cell_type": "markdown",
      "source": [
        "## Task"
      ],
      "metadata": {
        "id": "FjDU5pU1y_Sl"
      }
    },
    {
      "cell_type": "markdown",
      "source": [
        "Create a new Google colab notebook and familiarize yourself with the environment. Share your notebook with your friends."
      ],
      "metadata": {
        "id": "7uYma20CzBAq"
      }
    },
    {
      "cell_type": "markdown",
      "source": [
        "# Github"
      ],
      "metadata": {
        "id": "vIjIoc6M0Asl"
      }
    },
    {
      "cell_type": "markdown",
      "source": [
        "## About"
      ],
      "metadata": {
        "id": "14U0SKtB0D79"
      }
    },
    {
      "cell_type": "markdown",
      "source": [
        "- What is GitHub?\n",
        "\n",
        " - A web-based platform for version control and collaborative software development.\n",
        "\n",
        " - Built on Git, a distributed version control system.\n",
        "\n",
        "- Key Features:\n",
        "\n",
        "- Code hosting and management.\n",
        "\n",
        "- Collaboration through pull requests and issues.\n",
        "\n",
        "- Integration with other tools and CI/CD workflows."
      ],
      "metadata": {
        "id": "fo-CtRBG03Ae"
      }
    },
    {
      "cell_type": "markdown",
      "source": [
        "## Why"
      ],
      "metadata": {
        "id": "Q4rforiN1oyA"
      }
    },
    {
      "cell_type": "markdown",
      "source": [
        "- Version Control: Track changes to your codebase.\n",
        "\n",
        "- Collaboration: Work on projects with contributors worldwide.\n",
        "\n",
        "- Documentation: Host and share project documentation.\n",
        "\n",
        "- Showcase Work: Build a portfolio of coding projects.\n",
        "\n",
        "- Community Support: Engage with a large developer community.\n",
        "\n",
        "- Key Features of GitHub\n",
        "\n",
        " - Repositories: Store and organize your code.\n",
        "\n",
        " - Branching and Merging: Experiment with new features and merge changes.\n",
        "\n",
        " - Issues and Discussions: Track tasks and collaborate.\n",
        "\n",
        " - GitHub Actions: Automate workflows.\n",
        "\n",
        " - GitHub Pages: Host static websites directly from repositories."
      ],
      "metadata": {
        "id": "NLzeWvH01qJi"
      }
    },
    {
      "cell_type": "markdown",
      "source": [
        "## Task"
      ],
      "metadata": {
        "id": "aNjo06zB3X0g"
      }
    },
    {
      "cell_type": "markdown",
      "source": [
        "- Sign Up: Create a free account at github.com\n",
        "- Create a Repository \"Python class\"\n",
        "- create a branch\n",
        "- save notebook to your repository and commit"
      ],
      "metadata": {
        "id": "nRxQGLNU2AGa"
      }
    }
  ]
}